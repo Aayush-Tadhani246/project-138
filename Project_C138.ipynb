{
  "nbformat": 4,
  "nbformat_minor": 0,
  "metadata": {
    "colab": {
      "provenance": [],
      "collapsed_sections": [],
      "authorship_tag": "ABX9TyMCcH4wuhoclDMcUSIbdfi9",
      "include_colab_link": true
    },
    "kernelspec": {
      "name": "python3",
      "display_name": "Python 3"
    },
    "language_info": {
      "name": "python"
    }
  },
  "cells": [
    {
      "cell_type": "markdown",
      "metadata": {
        "id": "view-in-github",
        "colab_type": "text"
      },
      "source": [
        "<a href=\"https://colab.research.google.com/github/chessterfries/project-c138/blob/main/Project_C138.ipynb\" target=\"_parent\"><img src=\"https://colab.research.google.com/assets/colab-badge.svg\" alt=\"Open In Colab\"/></a>"
      ]
    },
    {
      "cell_type": "code",
      "execution_count": 2,
      "metadata": {
        "id": "s2MNJYOVEtO4",
        "colab": {
          "base_uri": "https://localhost:8080/"
        },
        "outputId": "af460a02-eecb-4da7-e316-cc57f190cb8d"
      },
      "outputs": [
        {
          "output_type": "stream",
          "name": "stdout",
          "text": [
            "Looking in indexes: https://pypi.org/simple, https://us-python.pkg.dev/colab-wheels/public/simple/\n",
            "Requirement already satisfied: kaggle in /usr/local/lib/python3.7/dist-packages (1.5.12)\n",
            "Requirement already satisfied: tqdm in /usr/local/lib/python3.7/dist-packages (from kaggle) (4.64.1)\n",
            "Requirement already satisfied: certifi in /usr/local/lib/python3.7/dist-packages (from kaggle) (2022.9.24)\n",
            "Requirement already satisfied: requests in /usr/local/lib/python3.7/dist-packages (from kaggle) (2.23.0)\n",
            "Requirement already satisfied: python-slugify in /usr/local/lib/python3.7/dist-packages (from kaggle) (6.1.2)\n",
            "Requirement already satisfied: python-dateutil in /usr/local/lib/python3.7/dist-packages (from kaggle) (2.8.2)\n",
            "Requirement already satisfied: six>=1.10 in /usr/local/lib/python3.7/dist-packages (from kaggle) (1.15.0)\n",
            "Requirement already satisfied: urllib3 in /usr/local/lib/python3.7/dist-packages (from kaggle) (1.24.3)\n",
            "Requirement already satisfied: text-unidecode>=1.3 in /usr/local/lib/python3.7/dist-packages (from python-slugify->kaggle) (1.3)\n",
            "Requirement already satisfied: idna<3,>=2.5 in /usr/local/lib/python3.7/dist-packages (from requests->kaggle) (2.10)\n",
            "Requirement already satisfied: chardet<4,>=3.0.2 in /usr/local/lib/python3.7/dist-packages (from requests->kaggle) (3.0.4)\n"
          ]
        }
      ],
      "source": [
        "!pip install kaggle"
      ]
    },
    {
      "cell_type": "code",
      "source": [
        "from google.colab import files\n",
        "files.upload()"
      ],
      "metadata": {
        "colab": {
          "base_uri": "https://localhost:8080/",
          "height": 90
        },
        "id": "ynEUdn6TE42w",
        "outputId": "b41f1db6-dcd6-4fb7-da0d-1c3cd1d36245"
      },
      "execution_count": 3,
      "outputs": [
        {
          "output_type": "display_data",
          "data": {
            "text/plain": [
              "<IPython.core.display.HTML object>"
            ],
            "text/html": [
              "\n",
              "     <input type=\"file\" id=\"files-de635b5a-c001-40ab-bc86-6c14092102d5\" name=\"files[]\" multiple disabled\n",
              "        style=\"border:none\" />\n",
              "     <output id=\"result-de635b5a-c001-40ab-bc86-6c14092102d5\">\n",
              "      Upload widget is only available when the cell has been executed in the\n",
              "      current browser session. Please rerun this cell to enable.\n",
              "      </output>\n",
              "      <script>// Copyright 2017 Google LLC\n",
              "//\n",
              "// Licensed under the Apache License, Version 2.0 (the \"License\");\n",
              "// you may not use this file except in compliance with the License.\n",
              "// You may obtain a copy of the License at\n",
              "//\n",
              "//      http://www.apache.org/licenses/LICENSE-2.0\n",
              "//\n",
              "// Unless required by applicable law or agreed to in writing, software\n",
              "// distributed under the License is distributed on an \"AS IS\" BASIS,\n",
              "// WITHOUT WARRANTIES OR CONDITIONS OF ANY KIND, either express or implied.\n",
              "// See the License for the specific language governing permissions and\n",
              "// limitations under the License.\n",
              "\n",
              "/**\n",
              " * @fileoverview Helpers for google.colab Python module.\n",
              " */\n",
              "(function(scope) {\n",
              "function span(text, styleAttributes = {}) {\n",
              "  const element = document.createElement('span');\n",
              "  element.textContent = text;\n",
              "  for (const key of Object.keys(styleAttributes)) {\n",
              "    element.style[key] = styleAttributes[key];\n",
              "  }\n",
              "  return element;\n",
              "}\n",
              "\n",
              "// Max number of bytes which will be uploaded at a time.\n",
              "const MAX_PAYLOAD_SIZE = 100 * 1024;\n",
              "\n",
              "function _uploadFiles(inputId, outputId) {\n",
              "  const steps = uploadFilesStep(inputId, outputId);\n",
              "  const outputElement = document.getElementById(outputId);\n",
              "  // Cache steps on the outputElement to make it available for the next call\n",
              "  // to uploadFilesContinue from Python.\n",
              "  outputElement.steps = steps;\n",
              "\n",
              "  return _uploadFilesContinue(outputId);\n",
              "}\n",
              "\n",
              "// This is roughly an async generator (not supported in the browser yet),\n",
              "// where there are multiple asynchronous steps and the Python side is going\n",
              "// to poll for completion of each step.\n",
              "// This uses a Promise to block the python side on completion of each step,\n",
              "// then passes the result of the previous step as the input to the next step.\n",
              "function _uploadFilesContinue(outputId) {\n",
              "  const outputElement = document.getElementById(outputId);\n",
              "  const steps = outputElement.steps;\n",
              "\n",
              "  const next = steps.next(outputElement.lastPromiseValue);\n",
              "  return Promise.resolve(next.value.promise).then((value) => {\n",
              "    // Cache the last promise value to make it available to the next\n",
              "    // step of the generator.\n",
              "    outputElement.lastPromiseValue = value;\n",
              "    return next.value.response;\n",
              "  });\n",
              "}\n",
              "\n",
              "/**\n",
              " * Generator function which is called between each async step of the upload\n",
              " * process.\n",
              " * @param {string} inputId Element ID of the input file picker element.\n",
              " * @param {string} outputId Element ID of the output display.\n",
              " * @return {!Iterable<!Object>} Iterable of next steps.\n",
              " */\n",
              "function* uploadFilesStep(inputId, outputId) {\n",
              "  const inputElement = document.getElementById(inputId);\n",
              "  inputElement.disabled = false;\n",
              "\n",
              "  const outputElement = document.getElementById(outputId);\n",
              "  outputElement.innerHTML = '';\n",
              "\n",
              "  const pickedPromise = new Promise((resolve) => {\n",
              "    inputElement.addEventListener('change', (e) => {\n",
              "      resolve(e.target.files);\n",
              "    });\n",
              "  });\n",
              "\n",
              "  const cancel = document.createElement('button');\n",
              "  inputElement.parentElement.appendChild(cancel);\n",
              "  cancel.textContent = 'Cancel upload';\n",
              "  const cancelPromise = new Promise((resolve) => {\n",
              "    cancel.onclick = () => {\n",
              "      resolve(null);\n",
              "    };\n",
              "  });\n",
              "\n",
              "  // Wait for the user to pick the files.\n",
              "  const files = yield {\n",
              "    promise: Promise.race([pickedPromise, cancelPromise]),\n",
              "    response: {\n",
              "      action: 'starting',\n",
              "    }\n",
              "  };\n",
              "\n",
              "  cancel.remove();\n",
              "\n",
              "  // Disable the input element since further picks are not allowed.\n",
              "  inputElement.disabled = true;\n",
              "\n",
              "  if (!files) {\n",
              "    return {\n",
              "      response: {\n",
              "        action: 'complete',\n",
              "      }\n",
              "    };\n",
              "  }\n",
              "\n",
              "  for (const file of files) {\n",
              "    const li = document.createElement('li');\n",
              "    li.append(span(file.name, {fontWeight: 'bold'}));\n",
              "    li.append(span(\n",
              "        `(${file.type || 'n/a'}) - ${file.size} bytes, ` +\n",
              "        `last modified: ${\n",
              "            file.lastModifiedDate ? file.lastModifiedDate.toLocaleDateString() :\n",
              "                                    'n/a'} - `));\n",
              "    const percent = span('0% done');\n",
              "    li.appendChild(percent);\n",
              "\n",
              "    outputElement.appendChild(li);\n",
              "\n",
              "    const fileDataPromise = new Promise((resolve) => {\n",
              "      const reader = new FileReader();\n",
              "      reader.onload = (e) => {\n",
              "        resolve(e.target.result);\n",
              "      };\n",
              "      reader.readAsArrayBuffer(file);\n",
              "    });\n",
              "    // Wait for the data to be ready.\n",
              "    let fileData = yield {\n",
              "      promise: fileDataPromise,\n",
              "      response: {\n",
              "        action: 'continue',\n",
              "      }\n",
              "    };\n",
              "\n",
              "    // Use a chunked sending to avoid message size limits. See b/62115660.\n",
              "    let position = 0;\n",
              "    do {\n",
              "      const length = Math.min(fileData.byteLength - position, MAX_PAYLOAD_SIZE);\n",
              "      const chunk = new Uint8Array(fileData, position, length);\n",
              "      position += length;\n",
              "\n",
              "      const base64 = btoa(String.fromCharCode.apply(null, chunk));\n",
              "      yield {\n",
              "        response: {\n",
              "          action: 'append',\n",
              "          file: file.name,\n",
              "          data: base64,\n",
              "        },\n",
              "      };\n",
              "\n",
              "      let percentDone = fileData.byteLength === 0 ?\n",
              "          100 :\n",
              "          Math.round((position / fileData.byteLength) * 100);\n",
              "      percent.textContent = `${percentDone}% done`;\n",
              "\n",
              "    } while (position < fileData.byteLength);\n",
              "  }\n",
              "\n",
              "  // All done.\n",
              "  yield {\n",
              "    response: {\n",
              "      action: 'complete',\n",
              "    }\n",
              "  };\n",
              "}\n",
              "\n",
              "scope.google = scope.google || {};\n",
              "scope.google.colab = scope.google.colab || {};\n",
              "scope.google.colab._files = {\n",
              "  _uploadFiles,\n",
              "  _uploadFilesContinue,\n",
              "};\n",
              "})(self);\n",
              "</script> "
            ]
          },
          "metadata": {}
        },
        {
          "output_type": "stream",
          "name": "stdout",
          "text": [
            "Saving kaggle.json to kaggle.json\n"
          ]
        },
        {
          "output_type": "execute_result",
          "data": {
            "text/plain": [
              "{'kaggle.json': b'{\"username\":\"asachdev123\",\"key\":\"4c329a7c484264602079c6d7f0308237\"}'}"
            ]
          },
          "metadata": {},
          "execution_count": 3
        }
      ]
    },
    {
      "cell_type": "code",
      "source": [
        "!mkdir -p ~/.kaggle\n",
        "!cp kaggle.json ~/.kaggle/\n",
        "!chmod 600 ~/.kaggle/kaggle.json"
      ],
      "metadata": {
        "id": "IWmKPOjXFm0A"
      },
      "execution_count": 4,
      "outputs": []
    },
    {
      "cell_type": "code",
      "source": [
        "!kaggle datasets download -d gspmoreira/articles-sharing-reading-from-cit-deskdrop"
      ],
      "metadata": {
        "colab": {
          "base_uri": "https://localhost:8080/"
        },
        "id": "OqqtWa6cF-zD",
        "outputId": "af5fd1d6-fa69-4972-9f94-b4eb834c3fa7"
      },
      "execution_count": 5,
      "outputs": [
        {
          "output_type": "stream",
          "name": "stdout",
          "text": [
            "Downloading articles-sharing-reading-from-cit-deskdrop.zip to /content\n",
            " 61% 5.00M/8.20M [00:00<00:00, 44.5MB/s]\n",
            "100% 8.20M/8.20M [00:00<00:00, 66.3MB/s]\n"
          ]
        }
      ]
    },
    {
      "cell_type": "code",
      "source": [
        "!ls"
      ],
      "metadata": {
        "colab": {
          "base_uri": "https://localhost:8080/"
        },
        "id": "cTVOYPDmGhuC",
        "outputId": "cb3ef347-ff72-4a6e-b748-e7b6b2f1f2a2"
      },
      "execution_count": 6,
      "outputs": [
        {
          "output_type": "stream",
          "name": "stdout",
          "text": [
            "articles-sharing-reading-from-cit-deskdrop.zip\tkaggle.json  sample_data\n"
          ]
        }
      ]
    },
    {
      "cell_type": "code",
      "source": [
        "!unzip articles-sharing-reading-from-cit-deskdrop.zip"
      ],
      "metadata": {
        "colab": {
          "base_uri": "https://localhost:8080/"
        },
        "id": "fg-tNVXmGjx8",
        "outputId": "66781d02-49af-40f6-e3d7-8984daa99f1a"
      },
      "execution_count": 7,
      "outputs": [
        {
          "output_type": "stream",
          "name": "stdout",
          "text": [
            "Archive:  articles-sharing-reading-from-cit-deskdrop.zip\n",
            "  inflating: shared_articles.csv     \n",
            "  inflating: users_interactions.csv  \n"
          ]
        }
      ]
    },
    {
      "cell_type": "code",
      "source": [
        "!ls"
      ],
      "metadata": {
        "id": "p15c7vFvG3IT",
        "outputId": "08f6c32d-0a7d-439f-ff8f-7864fe48a0d7",
        "colab": {
          "base_uri": "https://localhost:8080/"
        }
      },
      "execution_count": 8,
      "outputs": [
        {
          "output_type": "stream",
          "name": "stdout",
          "text": [
            "articles-sharing-reading-from-cit-deskdrop.zip\tshared_articles.csv\n",
            "kaggle.json\t\t\t\t\tusers_interactions.csv\n",
            "sample_data\n"
          ]
        }
      ]
    },
    {
      "cell_type": "code",
      "source": [
        "import pandas as pd\n",
        "\n",
        "df1 = pd.read_csv(\"shared_articles.csv\")\n",
        "df2 = pd.read_csv(\"shared_articles.csv\")\n",
        "\n",
        "print(df1.head())\n",
        "print(df2.head())"
      ],
      "metadata": {
        "colab": {
          "base_uri": "https://localhost:8080/"
        },
        "id": "IMSQWmBIduq-",
        "outputId": "5e4a09ae-3eab-4b68-8bc7-513b4e6a5e58"
      },
      "execution_count": 10,
      "outputs": [
        {
          "output_type": "stream",
          "name": "stdout",
          "text": [
            "    timestamp        eventType            contentId       authorPersonId  \\\n",
            "0  1459192779  CONTENT REMOVED -6451309518266745024  4340306774493623681   \n",
            "1  1459193988   CONTENT SHARED -4110354420726924665  4340306774493623681   \n",
            "2  1459194146   CONTENT SHARED -7292285110016212249  4340306774493623681   \n",
            "3  1459194474   CONTENT SHARED -6151852268067518688  3891637997717104548   \n",
            "4  1459194497   CONTENT SHARED  2448026894306402386  4340306774493623681   \n",
            "\n",
            "       authorSessionId authorUserAgent authorRegion authorCountry contentType  \\\n",
            "0  8940341205206233829             NaN          NaN           NaN        HTML   \n",
            "1  8940341205206233829             NaN          NaN           NaN        HTML   \n",
            "2  8940341205206233829             NaN          NaN           NaN        HTML   \n",
            "3 -1457532940883382585             NaN          NaN           NaN        HTML   \n",
            "4  8940341205206233829             NaN          NaN           NaN        HTML   \n",
            "\n",
            "                                                 url  \\\n",
            "0  http://www.nytimes.com/2016/03/28/business/dea...   \n",
            "1  http://www.nytimes.com/2016/03/28/business/dea...   \n",
            "2  http://cointelegraph.com/news/bitcoin-future-w...   \n",
            "3  https://cloudplatform.googleblog.com/2016/03/G...   \n",
            "4  https://bitcoinmagazine.com/articles/ibm-wants...   \n",
            "\n",
            "                                               title  \\\n",
            "0  Ethereum, a Virtual Currency, Enables Transact...   \n",
            "1  Ethereum, a Virtual Currency, Enables Transact...   \n",
            "2  Bitcoin Future: When GBPcoin of Branson Wins O...   \n",
            "3                       Google Data Center 360° Tour   \n",
            "4  IBM Wants to \"Evolve the Internet\" With Blockc...   \n",
            "\n",
            "                                                text lang  \n",
            "0  All of this work is still very early. The firs...   en  \n",
            "1  All of this work is still very early. The firs...   en  \n",
            "2  The alarm clock wakes me at 8:00 with stream o...   en  \n",
            "3  We're excited to share the Google Data Center ...   en  \n",
            "4  The Aite Group projects the blockchain market ...   en  \n",
            "    timestamp        eventType            contentId       authorPersonId  \\\n",
            "0  1459192779  CONTENT REMOVED -6451309518266745024  4340306774493623681   \n",
            "1  1459193988   CONTENT SHARED -4110354420726924665  4340306774493623681   \n",
            "2  1459194146   CONTENT SHARED -7292285110016212249  4340306774493623681   \n",
            "3  1459194474   CONTENT SHARED -6151852268067518688  3891637997717104548   \n",
            "4  1459194497   CONTENT SHARED  2448026894306402386  4340306774493623681   \n",
            "\n",
            "       authorSessionId authorUserAgent authorRegion authorCountry contentType  \\\n",
            "0  8940341205206233829             NaN          NaN           NaN        HTML   \n",
            "1  8940341205206233829             NaN          NaN           NaN        HTML   \n",
            "2  8940341205206233829             NaN          NaN           NaN        HTML   \n",
            "3 -1457532940883382585             NaN          NaN           NaN        HTML   \n",
            "4  8940341205206233829             NaN          NaN           NaN        HTML   \n",
            "\n",
            "                                                 url  \\\n",
            "0  http://www.nytimes.com/2016/03/28/business/dea...   \n",
            "1  http://www.nytimes.com/2016/03/28/business/dea...   \n",
            "2  http://cointelegraph.com/news/bitcoin-future-w...   \n",
            "3  https://cloudplatform.googleblog.com/2016/03/G...   \n",
            "4  https://bitcoinmagazine.com/articles/ibm-wants...   \n",
            "\n",
            "                                               title  \\\n",
            "0  Ethereum, a Virtual Currency, Enables Transact...   \n",
            "1  Ethereum, a Virtual Currency, Enables Transact...   \n",
            "2  Bitcoin Future: When GBPcoin of Branson Wins O...   \n",
            "3                       Google Data Center 360° Tour   \n",
            "4  IBM Wants to \"Evolve the Internet\" With Blockc...   \n",
            "\n",
            "                                                text lang  \n",
            "0  All of this work is still very early. The firs...   en  \n",
            "1  All of this work is still very early. The firs...   en  \n",
            "2  The alarm clock wakes me at 8:00 with stream o...   en  \n",
            "3  We're excited to share the Google Data Center ...   en  \n",
            "4  The Aite Group projects the blockchain market ...   en  \n"
          ]
        }
      ]
    }
  ]
}